{
 "cells": [
  {
   "cell_type": "code",
   "execution_count": 1,
   "id": "07ec9b7d-9a55-4f46-a8a8-38b246c56bed",
   "metadata": {},
   "outputs": [],
   "source": [
    "import numpy as np"
   ]
  },
  {
   "cell_type": "code",
   "execution_count": 3,
   "id": "173a9967-a6a6-4d9e-8dcd-e1b6cad8f338",
   "metadata": {},
   "outputs": [
    {
     "name": "stdout",
     "output_type": "stream",
     "text": [
      "[[1 2 3]\n",
      " [4 5 6]]\n"
     ]
    }
   ],
   "source": [
    "one_arr = np.array([1, 2, 3, 4, 5, 6])\n",
    "\n",
    "m_arr = np.reshape(one_arr, (2, 3))\n",
    "print(m_arr)"
   ]
  },
  {
   "cell_type": "markdown",
   "id": "507c8ec8-5a9f-48b2-b64c-947d557c37b0",
   "metadata": {},
   "source": [
    "### Dimensions"
   ]
  },
  {
   "cell_type": "code",
   "execution_count": 6,
   "id": "411aa072-c5cc-4036-924b-7c750f4da477",
   "metadata": {},
   "outputs": [
    {
     "data": {
      "text/plain": [
       "2"
      ]
     },
     "execution_count": 6,
     "metadata": {},
     "output_type": "execute_result"
    }
   ],
   "source": [
    "m_arr.ndim"
   ]
  },
  {
   "cell_type": "markdown",
   "id": "6ae24b2c-1d03-4a4a-bb0e-3dc856e4407a",
   "metadata": {},
   "source": [
    "### Size"
   ]
  },
  {
   "cell_type": "code",
   "execution_count": 12,
   "id": "ce4350c5-df75-415a-a3a1-fa515151f53e",
   "metadata": {},
   "outputs": [
    {
     "data": {
      "text/plain": [
       "6"
      ]
     },
     "execution_count": 12,
     "metadata": {},
     "output_type": "execute_result"
    }
   ],
   "source": [
    "m_arr.size"
   ]
  },
  {
   "cell_type": "markdown",
   "id": "c936ece1-47bd-47e5-b07d-9572482da6ff",
   "metadata": {},
   "source": [
    "### Shape"
   ]
  },
  {
   "cell_type": "code",
   "execution_count": 15,
   "id": "12ab086f-1271-432e-a3e7-049313ded1b0",
   "metadata": {},
   "outputs": [
    {
     "data": {
      "text/plain": [
       "(2, 3)"
      ]
     },
     "execution_count": 15,
     "metadata": {},
     "output_type": "execute_result"
    }
   ],
   "source": [
    "m_arr.shape"
   ]
  },
  {
   "cell_type": "code",
   "execution_count": null,
   "id": "e4a45d22-cfc6-4b41-88c0-41ba2a618e87",
   "metadata": {},
   "outputs": [],
   "source": []
  },
  {
   "cell_type": "code",
   "execution_count": null,
   "id": "ae3ffc64-7ed5-4302-8bdb-63688e4ea12c",
   "metadata": {},
   "outputs": [],
   "source": [
    "!jupy"
   ]
  }
 ],
 "metadata": {
  "kernelspec": {
   "display_name": "example",
   "language": "python",
   "name": "example"
  },
  "language_info": {
   "codemirror_mode": {
    "name": "ipython",
    "version": 3
   },
   "file_extension": ".py",
   "mimetype": "text/x-python",
   "name": "python",
   "nbconvert_exporter": "python",
   "pygments_lexer": "ipython3",
   "version": "3.12.2"
  }
 },
 "nbformat": 4,
 "nbformat_minor": 5
}
