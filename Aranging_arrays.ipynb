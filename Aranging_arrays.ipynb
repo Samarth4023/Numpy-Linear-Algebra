{
 "cells": [
  {
   "cell_type": "code",
   "execution_count": 1,
   "id": "931b6652",
   "metadata": {
    "execution": {
     "iopub.execute_input": "2024-12-24T08:21:46.778055Z",
     "iopub.status.busy": "2024-12-24T08:21:46.777703Z",
     "iopub.status.idle": "2024-12-24T08:21:46.783018Z",
     "shell.execute_reply": "2024-12-24T08:21:46.782168Z"
    },
    "papermill": {
     "duration": 0.010696,
     "end_time": "2024-12-24T08:21:46.784458",
     "exception": false,
     "start_time": "2024-12-24T08:21:46.773762",
     "status": "completed"
    },
    "tags": []
   },
   "outputs": [],
   "source": [
    "import numpy as np"
   ]
  },
  {
   "cell_type": "code",
   "execution_count": 2,
   "id": "893eb15e",
   "metadata": {
    "execution": {
     "iopub.execute_input": "2024-12-24T08:21:46.790464Z",
     "iopub.status.busy": "2024-12-24T08:21:46.790118Z",
     "iopub.status.idle": "2024-12-24T08:21:46.796559Z",
     "shell.execute_reply": "2024-12-24T08:21:46.795454Z"
    },
    "papermill": {
     "duration": 0.010889,
     "end_time": "2024-12-24T08:21:46.798029",
     "exception": false,
     "start_time": "2024-12-24T08:21:46.787140",
     "status": "completed"
    },
    "tags": []
   },
   "outputs": [
    {
     "name": "stdout",
     "output_type": "stream",
     "text": [
      "[0 1 2]\n"
     ]
    }
   ],
   "source": [
    "a = np.arange(3) # array with 3 integers, starting from the default integer 0.\n",
    "print(a)"
   ]
  },
  {
   "cell_type": "code",
   "execution_count": 3,
   "id": "9bc88f4f",
   "metadata": {
    "execution": {
     "iopub.execute_input": "2024-12-24T08:21:46.804085Z",
     "iopub.status.busy": "2024-12-24T08:21:46.803725Z",
     "iopub.status.idle": "2024-12-24T08:21:46.808861Z",
     "shell.execute_reply": "2024-12-24T08:21:46.807964Z"
    },
    "papermill": {
     "duration": 0.009804,
     "end_time": "2024-12-24T08:21:46.810346",
     "exception": false,
     "start_time": "2024-12-24T08:21:46.800542",
     "status": "completed"
    },
    "tags": []
   },
   "outputs": [
    {
     "name": "stdout",
     "output_type": "stream",
     "text": [
      "[0 1 2 3 4]\n"
     ]
    }
   ],
   "source": [
    "b = np.arange(0, 5) # array that starts from the integer 0, ends at 5. (arguments{start}, {end})\n",
    "print(b)"
   ]
  },
  {
   "cell_type": "code",
   "execution_count": 4,
   "id": "c96d0cca",
   "metadata": {
    "execution": {
     "iopub.execute_input": "2024-12-24T08:21:46.815991Z",
     "iopub.status.busy": "2024-12-24T08:21:46.815703Z",
     "iopub.status.idle": "2024-12-24T08:21:46.820975Z",
     "shell.execute_reply": "2024-12-24T08:21:46.819822Z"
    },
    "papermill": {
     "duration": 0.009909,
     "end_time": "2024-12-24T08:21:46.822626",
     "exception": false,
     "start_time": "2024-12-24T08:21:46.812717",
     "status": "completed"
    },
    "tags": []
   },
   "outputs": [
    {
     "name": "stdout",
     "output_type": "stream",
     "text": [
      "[ 1  4  7 10 13 16 19]\n"
     ]
    }
   ],
   "source": [
    "c = np.arange(1, 20, 3) # array that starts from the integer 1, ends at 20, incremented by 3. (arguments{start}, {end}, {increments})\n",
    "print(c)"
   ]
  },
  {
   "cell_type": "markdown",
   "id": "abdf0027",
   "metadata": {
    "papermill": {
     "duration": 0.002188,
     "end_time": "2024-12-24T08:21:46.827345",
     "exception": false,
     "start_time": "2024-12-24T08:21:46.825157",
     "status": "completed"
    },
    "tags": []
   },
   "source": [
    "### changing default type"
   ]
  },
  {
   "cell_type": "code",
   "execution_count": 5,
   "id": "77b3bda7",
   "metadata": {
    "execution": {
     "iopub.execute_input": "2024-12-24T08:21:46.833036Z",
     "iopub.status.busy": "2024-12-24T08:21:46.832707Z",
     "iopub.status.idle": "2024-12-24T08:21:46.838196Z",
     "shell.execute_reply": "2024-12-24T08:21:46.837099Z"
    },
    "papermill": {
     "duration": 0.010218,
     "end_time": "2024-12-24T08:21:46.839850",
     "exception": false,
     "start_time": "2024-12-24T08:21:46.829632",
     "status": "completed"
    },
    "tags": []
   },
   "outputs": [
    {
     "name": "stdout",
     "output_type": "stream",
     "text": [
      "[ 0.  1.  2.  3.  4.  5.  6.  7.  8.  9. 10. 11. 12. 13. 14. 15. 16. 17.\n",
      " 18. 19.]\n"
     ]
    }
   ],
   "source": [
    "c = np.arange(20, dtype = float) # changing default type\n",
    "print(c)"
   ]
  },
  {
   "cell_type": "code",
   "execution_count": 6,
   "id": "2cebe3a1",
   "metadata": {
    "execution": {
     "iopub.execute_input": "2024-12-24T08:21:46.846152Z",
     "iopub.status.busy": "2024-12-24T08:21:46.845836Z",
     "iopub.status.idle": "2024-12-24T08:21:48.805606Z",
     "shell.execute_reply": "2024-12-24T08:21:48.804369Z"
    },
    "papermill": {
     "duration": 1.965664,
     "end_time": "2024-12-24T08:21:48.808188",
     "exception": false,
     "start_time": "2024-12-24T08:21:46.842524",
     "status": "completed"
    },
    "tags": []
   },
   "outputs": [
    {
     "name": "stdout",
     "output_type": "stream",
     "text": [
      "Selected Jupyter core packages...\r\n",
      "IPython          : 7.34.0\r\n",
      "ipykernel        : 5.5.6\r\n",
      "ipywidgets       : 8.1.5\r\n",
      "jupyter_client   : 8.6.3\r\n",
      "jupyter_core     : 5.7.2\r\n",
      "jupyter_server   : 2.12.5\r\n",
      "jupyterlab       : 3.6.8\r\n",
      "nbclient         : 0.5.13\r\n",
      "nbconvert        : 6.4.5\r\n",
      "nbformat         : 5.10.4\r\n",
      "notebook         : 6.5.4\r\n",
      "qtconsole        : 5.6.1\r\n",
      "traitlets        : 5.7.1\r\n"
     ]
    }
   ],
   "source": [
    "!jupyter --version "
   ]
  }
 ],
 "metadata": {
  "kaggle": {
   "accelerator": "none",
   "dataSources": [],
   "dockerImageVersionId": 30822,
   "isGpuEnabled": false,
   "isInternetEnabled": true,
   "language": "python",
   "sourceType": "notebook"
  },
  "kernelspec": {
   "display_name": "Python 3",
   "language": "python",
   "name": "python3"
  },
  "language_info": {
   "codemirror_mode": {
    "name": "ipython",
    "version": 3
   },
   "file_extension": ".py",
   "mimetype": "text/x-python",
   "name": "python",
   "nbconvert_exporter": "python",
   "pygments_lexer": "ipython3",
   "version": "3.10.12"
  },
  "papermill": {
   "default_parameters": {},
   "duration": 4.705666,
   "end_time": "2024-12-24T08:21:49.330351",
   "environment_variables": {},
   "exception": null,
   "input_path": "__notebook__.ipynb",
   "output_path": "__notebook__.ipynb",
   "parameters": {},
   "start_time": "2024-12-24T08:21:44.624685",
   "version": "2.6.0"
  }
 },
 "nbformat": 4,
 "nbformat_minor": 5
}
