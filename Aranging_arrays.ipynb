{
 "cells": [
  {
   "cell_type": "code",
   "execution_count": 1,
   "id": "f739895a-71a4-4055-9f9a-7459b623442a",
   "metadata": {},
   "outputs": [],
   "source": [
    "import numpy as np"
   ]
  },
  {
   "cell_type": "code",
   "execution_count": 19,
   "id": "b0432dc7-9796-4183-9e64-ef3380c4ffa3",
   "metadata": {},
   "outputs": [
    {
     "name": "stdout",
     "output_type": "stream",
     "text": [
      "[0 1 2]\n"
     ]
    }
   ],
   "source": [
    "a = np.arange(3) # array with 3 integers, starting from the default integer 0.\n",
    "print(a)"
   ]
  },
  {
   "cell_type": "code",
   "execution_count": 13,
   "id": "38c3642c-5ce4-4ccf-894d-b399dbc44fa2",
   "metadata": {},
   "outputs": [
    {
     "name": "stdout",
     "output_type": "stream",
     "text": [
      "[0 1 2 3 4]\n"
     ]
    }
   ],
   "source": [
    "b = np.arange(0, 5) # array that starts from the integer 0, ends at 5. (arguments{start}, {end})\n",
    "print(b)"
   ]
  },
  {
   "cell_type": "code",
   "execution_count": 17,
   "id": "aa4d8eed-caea-4624-9e79-e87a7ec02605",
   "metadata": {},
   "outputs": [
    {
     "name": "stdout",
     "output_type": "stream",
     "text": [
      "[ 1  4  7 10 13 16 19]\n"
     ]
    }
   ],
   "source": [
    "c = np.arange(1, 20, 3) # array that starts from the integer 1, ends at 20, incremented by 3. (arguments{start}, {end}, {increments})\n",
    "print(c)"
   ]
  },
  {
   "cell_type": "markdown",
   "id": "48a6d8d3-3af3-42d6-a4d3-4642099a5928",
   "metadata": {},
   "source": [
    "### changing default type"
   ]
  },
  {
   "cell_type": "code",
   "execution_count": 25,
   "id": "73b0ccc0-862b-45fe-9384-5b96e4b46680",
   "metadata": {},
   "outputs": [
    {
     "name": "stdout",
     "output_type": "stream",
     "text": [
      "[ 0.  1.  2.  3.  4.  5.  6.  7.  8.  9. 10. 11. 12. 13. 14. 15. 16. 17.\n",
      " 18. 19.]\n"
     ]
    }
   ],
   "source": [
    "c = np.arange(20, dtype = float) # changing default type\n",
    "print(c)"
   ]
  },
  {
   "cell_type": "code",
   "execution_count": null,
   "id": "93594166-f0b9-4910-9da5-8b4488e0395f",
   "metadata": {},
   "outputs": [],
   "source": [
    "!jupyter --version"
   ]
  },
  {
   "cell_type": "code",
   "execution_count": null,
   "id": "17c99668-3cc6-458c-bc5f-8ebe11571bfa",
   "metadata": {},
   "outputs": [],
   "source": []
  }
 ],
 "metadata": {
  "kernelspec": {
   "display_name": "example",
   "language": "python",
   "name": "example"
  },
  "language_info": {
   "codemirror_mode": {
    "name": "ipython",
    "version": 3
   },
   "file_extension": ".py",
   "mimetype": "text/x-python",
   "name": "python",
   "nbconvert_exporter": "python",
   "pygments_lexer": "ipython3",
   "version": "3.12.2"
  }
 },
 "nbformat": 4,
 "nbformat_minor": 5
}
